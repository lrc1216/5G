{
 "cells": [
  {
   "cell_type": "code",
   "execution_count": 1,
   "metadata": {},
   "outputs": [],
   "source": [
    "import math"
   ]
  },
  {
   "cell_type": "code",
   "execution_count": 2,
   "metadata": {},
   "outputs": [
    {
     "name": "stdout",
     "output_type": "stream",
     "text": [
      "1.0\n",
      "0.3321928094887362\n"
     ]
    }
   ],
   "source": [
    "def rssi_cal_d(RSSI, A, n):\n",
    "    return pow(10, float((abs(RSSI) - A) / (10 * n)))\n",
    "\n",
    "def rssi_cal_A(d1, RSSI1, d2, RSSI2):\n",
    "    return (math.log10(d1) * abs(RSSI2) - math.log10(d2) * abs(RSSI1)) / (math.log10(d1) - math.log10(d2))\n",
    "\n",
    "def rssi_cal_n(d1, RSSI1, d2, RSSI2):\n",
    "    return (abs(RSSI1) - abs(RSSI2)) / (10 * (math.log10(d1) - math.log10(d2)))\n",
    "\n",
    "t_d1 = 1\n",
    "t_d2 = 2\n",
    "t_rssi1 = 1\n",
    "t_rssi2 = 2\n",
    "\n",
    "print(rssi_cal_A(t_d1, t_rssi1, t_d2, t_rssi2))\n",
    "print(rssi_cal_n(t_d1, t_rssi1, t_d2, t_rssi2))"
   ]
  },
  {
   "cell_type": "markdown",
   "metadata": {},
   "source": [
    "# 1）、导入需要的python库"
   ]
  },
  {
   "cell_type": "code",
   "execution_count": 3,
   "metadata": {},
   "outputs": [],
   "source": [
    "import numpy as np\n",
    "from numpy import random\n",
    "import matplotlib.pyplot as plt"
   ]
  },
  {
   "cell_type": "markdown",
   "metadata": {},
   "source": [
    "# 2）、TOA-LLOP算法python设计"
   ]
  },
  {
   "cell_type": "markdown",
   "metadata": {},
   "source": [
    "# 3）、TOA-LLOP算法python设计"
   ]
  },
  {
   "cell_type": "code",
   "execution_count": 4,
   "metadata": {},
   "outputs": [],
   "source": [
    "def TOA_LLOP(A,p,j):\n",
    "    A=np.array(A)\n",
    "    m=A.shape[0]\n",
    "    k=np.array([np.sum(A**2,1)]).T\n",
    "    k1=np.delete(k,j,axis=0)\n",
    "    A1=np.delete(A,j,axis=0)\n",
    "    A2=A1-np.ones((m-1,1))*A[j,:]\n",
    "    p1=np.delete(p,j,axis=0)\n",
    "    p2=p[j]**2*np.ones([m-1,1])-p1**2-(k[j]*np.ones([m-1,1])-k1)\n",
    "    theta=np.dot(np.dot(1/2*np.linalg.inv(np.dot(A2.T,A2)),A2.T),p2)\n",
    "    theta=theta.T\n",
    "    return theta"
   ]
  },
  {
   "cell_type": "markdown",
   "metadata": {},
   "source": [
    "# 4）、计算在传输过程的损耗参数\n",
    "RSSI的测量值由对数路径损耗模型产生，为减小波动造成的误差，其值可由多次测量取平均值来得到"
   ]
  },
  {
   "cell_type": "code",
   "execution_count": 5,
   "metadata": {},
   "outputs": [],
   "source": [
    "def parameter_est(A,sigma):\n",
    "    A=np.array(A)\n",
    "    m=A.shape[0]\n",
    "    pd0=0\n",
    "    n=3\n",
    "    d=np.zeros((m,m))\n",
    "    tt=5\n",
    "    sigma1=10**(sigma/10)\n",
    "    h1=np.array([])\n",
    "    G1=np.array([])\n",
    "    prd=np.array([])\n",
    "    for i in range(m):\n",
    "        for j in range(m):\n",
    "            if i!=j:\n",
    "                d[i,j]=np.linalg.norm(A[i,:]-A[j,:])\n",
    "                for k in range(tt):\n",
    "                    t=pd0-10*n*np.log10(d[i,j])-sigma1*random.randn()\n",
    "                    prd=np.insert(prd,len(prd),t)\n",
    "                RSSI=np.mean(prd)\n",
    "                prd=np.array([])\n",
    "                d_distance=-10*np.log10(d[i,j])\n",
    "                h1=np.hstack((h1,RSSI))\n",
    "                G1=np.hstack((G1,d_distance))\n",
    "    h=np.array([h1]).T\n",
    "    m1=h.shape[0]\n",
    "    G=np.hstack((np.ones((m1,1)),np.array([G1]).T))\n",
    "    x=np.dot(np.dot(np.linalg.inv(np.dot(G.T,G)),G.T),h)\n",
    "    pd0_est=x[0,0]\n",
    "    n_est=x[1,0]\n",
    "    return pd0_est, n_est"
   ]
  },
  {
   "cell_type": "markdown",
   "metadata": {},
   "source": [
    "# 5）、定义测量位置，调用算法和损耗参数函数"
   ]
  },
  {
   "cell_type": "code",
   "execution_count": null,
   "metadata": {},
   "outputs": [],
   "source": []
  },
  {
   "cell_type": "code",
   "execution_count": 6,
   "metadata": {},
   "outputs": [
    {
     "data": {
      "text/plain": [
       "array([[-100., -100.],\n",
       "       [ 400., -100.],\n",
       "       [ 400.,  400.],\n",
       "       [-100.,  400.]])"
      ]
     },
     "execution_count": 6,
     "metadata": {},
     "output_type": "execute_result"
    }
   ],
   "source": [
    "BS1=[0,0]\n",
    "BS2=[500,0]\n",
    "BS3=[500,500]\n",
    "BS4=[0,500]\n",
    "MS=[100,100]\n",
    "std_var=[0,2,4,6]\n",
    "A=[BS1,BS2,BS3,BS4]\n",
    "number=10000\n",
    "pd0=0\n",
    "n=3\n",
    "tt=1\n",
    "RMSE1=np.array([])\n",
    "RMSE2=np.array([])\n",
    "rssi=np.array([[],[],[],[]])\n",
    "# for j in range(len(std_var)):\n",
    "#     # std_var1=std_var[j]\n",
    "std_var1 = 2\n",
    "r1=A-np.ones((4,1))*MS\n",
    "r1\n",
    "# r2=np.sqrt(np.array([np.sum(r1**2,axis=1)]).T)\n",
    "# t=pd0-10*n*np.log10(r2)-(10**(std_var1/10))*random.random(size=(4,1))\n",
    "# rssi=np.hstack((rssi,t))\n",
    "# print(rssi)\n",
    "    # RSSI=np.array([np.mean(rssi,1)]).T\n",
    "    # print(RSSI)"
   ]
  },
  {
   "cell_type": "code",
   "execution_count": 7,
   "metadata": {},
   "outputs": [
    {
     "data": {
      "text/plain": [
       "-1.0102999566398125"
      ]
     },
     "execution_count": 7,
     "metadata": {},
     "output_type": "execute_result"
    }
   ],
   "source": [
    "26+10*np.log10(800/1600)-24"
   ]
  },
  {
   "cell_type": "code",
   "execution_count": 8,
   "metadata": {},
   "outputs": [
    {
     "data": {
      "text/plain": [
       "22.989700043360195"
      ]
     },
     "execution_count": 8,
     "metadata": {},
     "output_type": "execute_result"
    }
   ],
   "source": [
    "26+(10*np.log10(800) - 10*np.log10(1600))"
   ]
  },
  {
   "cell_type": "code",
   "execution_count": 9,
   "metadata": {},
   "outputs": [
    {
     "data": {
      "text/plain": [
       "29.030899869919438"
      ]
     },
     "execution_count": 9,
     "metadata": {},
     "output_type": "execute_result"
    }
   ],
   "source": [
    "10*np.log10(800)"
   ]
  },
  {
   "cell_type": "code",
   "execution_count": 10,
   "metadata": {},
   "outputs": [
    {
     "data": {
      "text/plain": [
       "-17.020599913279625"
      ]
     },
     "execution_count": 10,
     "metadata": {},
     "output_type": "execute_result"
    }
   ],
   "source": [
    "10*np.log10((1/(2*math.sqrt(2)))**2/50)+6+3"
   ]
  },
  {
   "cell_type": "code",
   "execution_count": 11,
   "metadata": {},
   "outputs": [
    {
     "data": {
      "text/plain": [
       "-3.010299956639812"
      ]
     },
     "execution_count": 11,
     "metadata": {},
     "output_type": "execute_result"
    }
   ],
   "source": [
    "np.log10(800/1600)*10"
   ]
  },
  {
   "cell_type": "code",
   "execution_count": 12,
   "metadata": {},
   "outputs": [
    {
     "data": {
      "text/plain": [
       "-1.0"
      ]
     },
     "execution_count": 12,
     "metadata": {},
     "output_type": "execute_result"
    }
   ],
   "source": [
    "26+(np.log2(800)-np.log2(1600))*3-24"
   ]
  },
  {
   "cell_type": "markdown",
   "metadata": {},
   "source": [
    "# RB位置补偿处理，以3.5G 20M带宽为例\n",
    "rb_center_pos：实际信号的RB中心位置\n",
    "\trb_end_pos：实际信号的结束RB位置\n",
    "\trb_start_pos：实际信号的起始RB位置\n",
    "\ttx_freq_point：载波中心频率，单位为Mhz\n",
    "\tscs_interval：子载波间隔\n",
    "\tcarrier_rb_pos：载波中心频率的RB位置，根据带宽不同。\n"
   ]
  },
  {
   "cell_type": "code",
   "execution_count": 13,
   "metadata": {},
   "outputs": [
    {
     "data": {
      "text/plain": [
       "3504680000.0"
      ]
     },
     "execution_count": 13,
     "metadata": {},
     "output_type": "execute_result"
    }
   ],
   "source": [
    "tx_freq_point = 3.5e9\n",
    "carrier_rb_pos = 25\n",
    "rb_start_pos = 25\n",
    "rb_end_pos = 51\n",
    "rb_center_pos =(rb_end_pos+rb_start_pos)/2\n",
    "tx_freq_point+12*30000*(rb_center_pos - carrier_rb_pos)"
   ]
  },
  {
   "cell_type": "code",
   "execution_count": 15,
   "metadata": {},
   "outputs": [
    {
     "data": {
      "text/plain": [
       "3504680000.0"
      ]
     },
     "execution_count": 15,
     "metadata": {},
     "output_type": "execute_result"
    }
   ],
   "source": [
    "tx_freq_point = 3.5e9\n",
    "carrier_rb_pos = 25\n",
    "rb_start_pos = 25\n",
    "rb_num = 26\n",
    "rb_center_pos =rb_start_pos+rb_num/2\n",
    "tx_freq_point+12*30000*(rb_center_pos - carrier_rb_pos)"
   ]
  },
  {
   "cell_type": "markdown",
   "metadata": {},
   "source": [
    "## 频率补偿"
   ]
  },
  {
   "cell_type": "code",
   "execution_count": 18,
   "metadata": {},
   "outputs": [
    {
     "data": {
      "text/plain": [
       "10.0"
      ]
     },
     "execution_count": 18,
     "metadata": {},
     "output_type": "execute_result"
    }
   ],
   "source": [
    "200*0.05"
   ]
  }
 ],
 "metadata": {
  "interpreter": {
   "hash": "f7bbeb2a5922912ff46b4b01150fc9dcbb9fde90d55737ab60ad06e78d9cbad8"
  },
  "kernelspec": {
   "display_name": "Python 3.8.10 64-bit (windows store)",
   "language": "python",
   "name": "python3"
  },
  "language_info": {
   "codemirror_mode": {
    "name": "ipython",
    "version": 3
   },
   "file_extension": ".py",
   "mimetype": "text/x-python",
   "name": "python",
   "nbconvert_exporter": "python",
   "pygments_lexer": "ipython3",
   "version": "3.10.1"
  },
  "orig_nbformat": 4
 },
 "nbformat": 4,
 "nbformat_minor": 2
}
