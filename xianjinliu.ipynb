{
 "cells": [
  {
   "cell_type": "markdown",
   "metadata": {},
   "source": [
    "# 固定现金流现值计算函数\n",
    "表达式：PresentVal=pv(Rate,NumPeriods,Payment,ExtraPayment,Due) Rate:贴现率\n",
    "NumPeriods：贴现周期\n",
    "Payment周期现金流\n",
    "ExtraPayment：最后一次非周期现金流，函数默认为0\n",
    "Due：现金流计息方式（0为周期末付息，1为周期初付息）PresentVal：现金流现值"
   ]
  },
  {
   "cell_type": "code",
   "execution_count": 3,
   "metadata": {},
   "outputs": [
    {
     "name": "stdout",
     "output_type": "stream",
     "text": [
      "926.3991294858529\n"
     ]
    }
   ],
   "source": [
    "import numpy as np\n",
    "import numpy_financial as npf\n",
    "Facevalue=1000\n",
    "# 债券付息（面值*利率），假设每年付息一次\n",
    "Payment=0.05*Facevalue\n",
    "# 市场利率\n",
    "Rate=0.06\n",
    "# 到期还本，ExtraPayment额外现金流为本金\n",
    "ExtraPayment=Facevalue\n",
    "# 债券期现为10年\n",
    "NumPeriods=10\n",
    "# 每年年末付息\n",
    "Due=0\n",
    "PresentVal=abs(npf.pv(Rate,NumPeriods,Payment,ExtraPayment,Due))\n",
    "print(PresentVal)  #该债券价格低于926.4，则被低估，高于926.4，则被高估"
   ]
  },
  {
   "cell_type": "markdown",
   "metadata": {},
   "source": [
    "# 固定现金流终值计算函数\n",
    "FutureVal=fv(Rate,NumPeriods,Payment,PresentVal,Due)\n",
    "Rate:贴现率\n",
    "NumPeriods：贴现周期\n",
    "Payment周期现金流\n",
    "Due：现金流计息方式（0为周期末付息，1为周期初付息）\n",
    "PresentVal：现金流现值 # FutureVal：现金流终值"
   ]
  },
  {
   "cell_type": "code",
   "execution_count": 5,
   "metadata": {},
   "outputs": [
    {
     "name": "stdout",
     "output_type": "stream",
     "text": [
      "2318.079494238091\n"
     ]
    }
   ],
   "source": [
    "import numpy as np\n",
    "Facevalue=1000\n",
    "# 债券付息（面值*利率），假设每年付息一次\n",
    "Payment=0.05*Facevalue\n",
    "# 市场利率\n",
    "Rate=0.06\n",
    "# 到期还本，ExtraPayment额外现金流为本金\n",
    "ExtraPayment=Facevalue\n",
    "# 债券期现为10年\n",
    "NumPeriods=10\n",
    "# 每年年末付息\n",
    "Due=0\n",
    "FutureVal=abs(npf.fv(Rate,NumPeriods,Payment,PresentVal,Due))\n",
    "print(FutureVal)"
   ]
  },
  {
   "cell_type": "markdown",
   "metadata": {},
   "source": [
    "# 变化现金流计算\n",
    "净现值法（NPV）将现金流用必要收益率贴现计算NPV值，若NPV>0,则可行，否则不可行\n",
    "内部收益率法假设NPV=0,计算必要贴现率，若IRR大于必要收益率则可行，反之不可行\n",
    "净现值NPV计算函数 PresentVal=npv(Rate,CashFlow)\n",
    "Rate：必要收益率\n",
    "CashFlow：现金流序列向量\n",
    "PresentVal：现金流现值"
   ]
  },
  {
   "cell_type": "code",
   "execution_count": 6,
   "metadata": {},
   "outputs": [
    {
     "name": "stdout",
     "output_type": "stream",
     "text": [
      "-849.137888777871\n"
     ]
    }
   ],
   "source": [
    "# 现金流\n",
    "CashFlow=[-8000,2500.1500,3000,1000,2000]\n",
    "# 利率\n",
    "Rate=0.08\n",
    "PresentVal1=-8000+2500/1.08+1500/1.08**2+3000/1.08**3+1000/1.08**4+2000/1.08**5\n",
    "PresentVal1=npf.npv(Rate,CashFlow)\n",
    "print(PresentVal1)"
   ]
  },
  {
   "cell_type": "markdown",
   "metadata": {},
   "source": [
    "# 内部收益率计算函数\n",
    "Return=irr(CashFlow)\n",
    "Return ：内部收益率"
   ]
  },
  {
   "cell_type": "code",
   "execution_count": 8,
   "metadata": {},
   "outputs": [
    {
     "name": "stdout",
     "output_type": "stream",
     "text": [
      "0.0839\n"
     ]
    }
   ],
   "source": [
    "CashFlow=[-8000,2500,1500,3000,1000,2000]\n",
    "Return=np.round(npf.irr(CashFlow),4) #round() 方法返回浮点数x的四舍五入值。如round(80.23456, 2) :  80.23\n",
    "print(Return)"
   ]
  },
  {
   "cell_type": "markdown",
   "metadata": {},
   "source": [
    "# 年现金流计算\n",
    "\n",
    "若投资100万买房，还款期20年，每月还6000元，则贷款利率为多少？若改为每月还8000，贷款利率不变，则还款期限为多长？\n",
    "年金利率函数rate Rate=rate(NumPeriods,Payment,PresentValue,FutureValue,Due) NumPeriods：现金流周期\n",
    "Payment:现金流支出\n",
    "FutureValue:现金流终值，函数默认为0\n",
    "Due：现金流计息方式（0为周期末付息，1为周期初付息） PresentVal：现金流现值\n",
    "Rate：利息率（贴现率）"
   ]
  },
  {
   "cell_type": "code",
   "execution_count": 10,
   "metadata": {},
   "outputs": [
    {
     "name": "stdout",
     "output_type": "stream",
     "text": [
      "0.0032\n"
     ]
    }
   ],
   "source": [
    "# 贷款现值\n",
    "PresentValue=1000000.0\n",
    "# 每次还款金额\n",
    "Payment=-6000.0\n",
    "# 还款次数\n",
    "NumPeriods=20*12\n",
    "# 现金流终值为0\n",
    "FutureValue=0\n",
    "# 每周期还款一次，0为周期末付息\n",
    "Due=0\n",
    "# 调用rate函数\n",
    "Rate=np.around(npf.rate(NumPeriods,Payment,PresentValue,FutureValue),4)\n",
    "print(Rate)"
   ]
  },
  {
   "cell_type": "markdown",
   "metadata": {},
   "source": [
    "# 继续求解，\n",
    "\n",
    "年金周期函数nper NumPeriods=nper(Rate,Payment,PresentValue,fv,Due)\n",
    "Rate:贴现率\n",
    "Payment：现金流收入（支出）\n",
    "PresentValue：现金流现值\n",
    "fv：现金流终值，默认值为0\n",
    "Due：现金流计息方式\n",
    "NumPeriods：现金流周期"
   ]
  },
  {
   "cell_type": "code",
   "execution_count": 12,
   "metadata": {},
   "outputs": [
    {
     "name": "stdout",
     "output_type": "stream",
     "text": [
      "13.377524805437297\n"
     ]
    }
   ],
   "source": [
    "# 贷款现值\n",
    "PresentValue=1000000.0\n",
    "# 每次还款金额\n",
    "Payment=-8000.0\n",
    "# 现金流终值为0\n",
    "FutureValue=0\n",
    "# 每周期还款一次，0为周期末付息\n",
    "Due=0\n",
    "# 月利率，银行的现行计息方式\n",
    "Rate=0.0389/12\n",
    "# 调用nper计算还款周期\n",
    "NumPeriods=npf.nper(Rate,Payment,PresentValue,fv=0,when='end')\n",
    "print(NumPeriods/12)"
   ]
  }
 ],
 "metadata": {
  "interpreter": {
   "hash": "43062ab70e4f44a8b2557b30f3b65d1acc10f706015e7d7b86fa3d8881713712"
  },
  "kernelspec": {
   "display_name": "Python 3.10.1 64-bit",
   "language": "python",
   "name": "python3"
  },
  "language_info": {
   "codemirror_mode": {
    "name": "ipython",
    "version": 3
   },
   "file_extension": ".py",
   "mimetype": "text/x-python",
   "name": "python",
   "nbconvert_exporter": "python",
   "pygments_lexer": "ipython3",
   "version": "3.10.1"
  },
  "orig_nbformat": 4
 },
 "nbformat": 4,
 "nbformat_minor": 2
}
